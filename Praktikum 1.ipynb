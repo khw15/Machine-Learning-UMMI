{
  "cells": [
    {
      "cell_type": "markdown",
      "metadata": {
        "id": "view-in-github",
        "colab_type": "text"
      },
      "source": [
        "<a href=\"https://colab.research.google.com/github/khw15/Machine-Learning-UMMI/blob/main/Praktikum%201.ipynb\" target=\"_parent\"><img src=\"https://colab.research.google.com/assets/colab-badge.svg\" alt=\"Open In Colab\"/></a>"
      ]
    },
    {
      "cell_type": "markdown",
      "metadata": {
        "id": "Ja0EBduaM2xF"
      },
      "source": [
        "Proses data understanding adalah proses yang dilakukan untuk memahami data yang akan digunakan. Pada proses ini, kita akan melihat karakteristik data, statistik deskriptif, dan visualisasi data."
      ]
    },
    {
      "cell_type": "code",
      "execution_count": null,
      "metadata": {
        "id": "1RLbRyEWM2xF"
      },
      "outputs": [],
      "source": [
        "# Melakukan import library pandas, numpy, dan matplotlib.pyplot\n",
        "import pandas as pd\n",
        "import numpy as np\n",
        "import matplotlib.pyplot as plt"
      ]
    },
    {
      "cell_type": "code",
      "execution_count": null,
      "metadata": {
        "id": "2QjR9N2pM2xG",
        "outputId": "1b8914a1-79d0-414d-b3a2-5bee29b844e4"
      },
      "outputs": [
        {
          "name": "stdout",
          "output_type": "stream",
          "text": [
            "Apakah terdapat nilai kosong di dataframe? Tidak ada nilai kosong\n",
            "Apakah terdapat nilai kosong di kolom Goals? Tidak ada nilai kosong\n"
          ]
        }
      ],
      "source": [
        "# Menentukan path file dataset\n",
        "path = \"dataset/dataset.csv\" # Sesuaikan dengan lokasi file dataset.csv\n",
        "\n",
        "# Membaca dataset dan memasukkannya ke dalam dataframe\n",
        "df_epl = pd.read_csv(path)\n",
        "\n",
        "# Fungsi untuk mengecek nilai kosong di dataframe atau di kolom Goals\n",
        "def check_null(df, column=None):\n",
        "    if column:\n",
        "        is_null = df[column].isnull().values.any()\n",
        "    else:\n",
        "        is_null = df.isnull().values.any()\n",
        "    return \"Ada nilai kosong\" if is_null else \"Tidak ada nilai kosong\"\n",
        "\n",
        "# Mencetak hasil pengecekan\n",
        "print(f\"Apakah terdapat nilai kosong di dataframe? {check_null(df_epl)}\")\n",
        "print(f\"Apakah terdapat nilai kosong di kolom Goals? {check_null(df_epl, 'goals')}\")"
      ]
    },
    {
      "cell_type": "code",
      "execution_count": null,
      "metadata": {
        "id": "mjjp9cBdM2xG",
        "outputId": "6cbe3c03-0844-4f9e-9529-280fc6e03462"
      },
      "outputs": [
        {
          "data": {
            "text/html": [
              "<div>\n",
              "<style scoped>\n",
              "    .dataframe tbody tr th:only-of-type {\n",
              "        vertical-align: middle;\n",
              "    }\n",
              "\n",
              "    .dataframe tbody tr th {\n",
              "        vertical-align: top;\n",
              "    }\n",
              "\n",
              "    .dataframe thead th {\n",
              "        text-align: right;\n",
              "    }\n",
              "</style>\n",
              "<table border=\"1\" class=\"dataframe\">\n",
              "  <thead>\n",
              "    <tr style=\"text-align: right;\">\n",
              "      <th></th>\n",
              "      <th>Unnamed: 0</th>\n",
              "      <th>id</th>\n",
              "      <th>player_name</th>\n",
              "      <th>games</th>\n",
              "      <th>time</th>\n",
              "      <th>goals</th>\n",
              "      <th>xG</th>\n",
              "      <th>assists</th>\n",
              "      <th>xA</th>\n",
              "      <th>shots</th>\n",
              "      <th>key_passes</th>\n",
              "      <th>yellow_cards</th>\n",
              "      <th>red_cards</th>\n",
              "      <th>position</th>\n",
              "      <th>team_title</th>\n",
              "      <th>npg</th>\n",
              "      <th>npxG</th>\n",
              "      <th>xGChain</th>\n",
              "      <th>xGBuildup</th>\n",
              "    </tr>\n",
              "  </thead>\n",
              "  <tbody>\n",
              "    <tr>\n",
              "      <th>0</th>\n",
              "      <td>0</td>\n",
              "      <td>647</td>\n",
              "      <td>Harry Kane</td>\n",
              "      <td>35</td>\n",
              "      <td>3097</td>\n",
              "      <td>23</td>\n",
              "      <td>22.174859</td>\n",
              "      <td>14</td>\n",
              "      <td>7.577094</td>\n",
              "      <td>138</td>\n",
              "      <td>49</td>\n",
              "      <td>1</td>\n",
              "      <td>0</td>\n",
              "      <td>F</td>\n",
              "      <td>Tottenham</td>\n",
              "      <td>19</td>\n",
              "      <td>19.130183</td>\n",
              "      <td>24.995648</td>\n",
              "      <td>4.451257</td>\n",
              "    </tr>\n",
              "    <tr>\n",
              "      <th>1</th>\n",
              "      <td>1</td>\n",
              "      <td>1250</td>\n",
              "      <td>Mohamed Salah</td>\n",
              "      <td>37</td>\n",
              "      <td>3085</td>\n",
              "      <td>22</td>\n",
              "      <td>20.250847</td>\n",
              "      <td>5</td>\n",
              "      <td>6.528526</td>\n",
              "      <td>126</td>\n",
              "      <td>55</td>\n",
              "      <td>0</td>\n",
              "      <td>0</td>\n",
              "      <td>F M S</td>\n",
              "      <td>Liverpool</td>\n",
              "      <td>16</td>\n",
              "      <td>15.683834</td>\n",
              "      <td>28.968234</td>\n",
              "      <td>9.800236</td>\n",
              "    </tr>\n",
              "    <tr>\n",
              "      <th>2</th>\n",
              "      <td>2</td>\n",
              "      <td>1228</td>\n",
              "      <td>Bruno Fernandes</td>\n",
              "      <td>37</td>\n",
              "      <td>3117</td>\n",
              "      <td>18</td>\n",
              "      <td>16.019454</td>\n",
              "      <td>12</td>\n",
              "      <td>11.474996</td>\n",
              "      <td>121</td>\n",
              "      <td>95</td>\n",
              "      <td>6</td>\n",
              "      <td>0</td>\n",
              "      <td>M S</td>\n",
              "      <td>Manchester United</td>\n",
              "      <td>9</td>\n",
              "      <td>8.407840</td>\n",
              "      <td>26.911412</td>\n",
              "      <td>11.932285</td>\n",
              "    </tr>\n",
              "    <tr>\n",
              "      <th>3</th>\n",
              "      <td>3</td>\n",
              "      <td>453</td>\n",
              "      <td>Son Heung-Min</td>\n",
              "      <td>37</td>\n",
              "      <td>3139</td>\n",
              "      <td>17</td>\n",
              "      <td>11.023287</td>\n",
              "      <td>10</td>\n",
              "      <td>9.512992</td>\n",
              "      <td>68</td>\n",
              "      <td>75</td>\n",
              "      <td>0</td>\n",
              "      <td>0</td>\n",
              "      <td>F M S</td>\n",
              "      <td>Tottenham</td>\n",
              "      <td>16</td>\n",
              "      <td>10.262118</td>\n",
              "      <td>20.671916</td>\n",
              "      <td>6.608751</td>\n",
              "    </tr>\n",
              "    <tr>\n",
              "      <th>4</th>\n",
              "      <td>4</td>\n",
              "      <td>822</td>\n",
              "      <td>Patrick Bamford</td>\n",
              "      <td>38</td>\n",
              "      <td>3085</td>\n",
              "      <td>17</td>\n",
              "      <td>18.401863</td>\n",
              "      <td>7</td>\n",
              "      <td>3.782247</td>\n",
              "      <td>107</td>\n",
              "      <td>30</td>\n",
              "      <td>3</td>\n",
              "      <td>0</td>\n",
              "      <td>F S</td>\n",
              "      <td>Leeds</td>\n",
              "      <td>15</td>\n",
              "      <td>16.879525</td>\n",
              "      <td>23.394953</td>\n",
              "      <td>4.131796</td>\n",
              "    </tr>\n",
              "  </tbody>\n",
              "</table>\n",
              "</div>"
            ],
            "text/plain": [
              "   Unnamed: 0    id      player_name  games  time  goals         xG  assists  \\\n",
              "0           0   647       Harry Kane     35  3097     23  22.174859       14   \n",
              "1           1  1250    Mohamed Salah     37  3085     22  20.250847        5   \n",
              "2           2  1228  Bruno Fernandes     37  3117     18  16.019454       12   \n",
              "3           3   453    Son Heung-Min     37  3139     17  11.023287       10   \n",
              "4           4   822  Patrick Bamford     38  3085     17  18.401863        7   \n",
              "\n",
              "          xA  shots  key_passes  yellow_cards  red_cards position  \\\n",
              "0   7.577094    138          49             1          0        F   \n",
              "1   6.528526    126          55             0          0    F M S   \n",
              "2  11.474996    121          95             6          0      M S   \n",
              "3   9.512992     68          75             0          0    F M S   \n",
              "4   3.782247    107          30             3          0      F S   \n",
              "\n",
              "          team_title  npg       npxG    xGChain  xGBuildup  \n",
              "0          Tottenham   19  19.130183  24.995648   4.451257  \n",
              "1          Liverpool   16  15.683834  28.968234   9.800236  \n",
              "2  Manchester United    9   8.407840  26.911412  11.932285  \n",
              "3          Tottenham   16  10.262118  20.671916   6.608751  \n",
              "4              Leeds   15  16.879525  23.394953   4.131796  "
            ]
          },
          "execution_count": 3,
          "metadata": {},
          "output_type": "execute_result"
        }
      ],
      "source": [
        "# Membaca 5 data teratas dari dataframe\n",
        "df_epl.head()"
      ]
    },
    {
      "cell_type": "code",
      "execution_count": null,
      "metadata": {
        "id": "bmeDP1sQM2xH",
        "outputId": "0d27aca4-091e-4e74-82e8-6e532ea87436"
      },
      "outputs": [
        {
          "name": "stdout",
          "output_type": "stream",
          "text": [
            "Unnamed: 0        int64\n",
            "id                int64\n",
            "player_name      object\n",
            "games             int64\n",
            "time              int64\n",
            "goals             int64\n",
            "xG              float64\n",
            "assists           int64\n",
            "xA              float64\n",
            "shots             int64\n",
            "key_passes        int64\n",
            "yellow_cards      int64\n",
            "red_cards         int64\n",
            "position         object\n",
            "team_title       object\n",
            "npg               int64\n",
            "npxG            float64\n",
            "xGChain         float64\n",
            "xGBuildup       float64\n",
            "dtype: object\n"
          ]
        }
      ],
      "source": [
        "# Membaca tipe data dari setiap kolom di dataframe\n",
        "print(df_epl.dtypes)"
      ]
    },
    {
      "cell_type": "code",
      "execution_count": null,
      "metadata": {
        "id": "0jkHpfF5M2xH",
        "outputId": "e9cc231c-feb4-487c-883e-ddcde8f0a910"
      },
      "outputs": [
        {
          "data": {
            "text/html": [
              "<div>\n",
              "<style scoped>\n",
              "    .dataframe tbody tr th:only-of-type {\n",
              "        vertical-align: middle;\n",
              "    }\n",
              "\n",
              "    .dataframe tbody tr th {\n",
              "        vertical-align: top;\n",
              "    }\n",
              "\n",
              "    .dataframe thead th {\n",
              "        text-align: right;\n",
              "    }\n",
              "</style>\n",
              "<table border=\"1\" class=\"dataframe\">\n",
              "  <thead>\n",
              "    <tr style=\"text-align: right;\">\n",
              "      <th></th>\n",
              "      <th>Unnamed: 0</th>\n",
              "      <th>id</th>\n",
              "      <th>games</th>\n",
              "      <th>time</th>\n",
              "      <th>goals</th>\n",
              "      <th>xG</th>\n",
              "      <th>assists</th>\n",
              "      <th>xA</th>\n",
              "      <th>shots</th>\n",
              "      <th>key_passes</th>\n",
              "      <th>yellow_cards</th>\n",
              "      <th>red_cards</th>\n",
              "      <th>npg</th>\n",
              "      <th>npxG</th>\n",
              "      <th>xGChain</th>\n",
              "      <th>xGBuildup</th>\n",
              "    </tr>\n",
              "  </thead>\n",
              "  <tbody>\n",
              "    <tr>\n",
              "      <th>count</th>\n",
              "      <td>522.000000</td>\n",
              "      <td>522.000000</td>\n",
              "      <td>522.000000</td>\n",
              "      <td>522.000000</td>\n",
              "      <td>522.000000</td>\n",
              "      <td>522.000000</td>\n",
              "      <td>522.000000</td>\n",
              "      <td>522.000000</td>\n",
              "      <td>522.000000</td>\n",
              "      <td>522.000000</td>\n",
              "      <td>522.000000</td>\n",
              "      <td>522.000000</td>\n",
              "      <td>522.000000</td>\n",
              "      <td>522.000000</td>\n",
              "      <td>522.000000</td>\n",
              "      <td>522.000000</td>\n",
              "    </tr>\n",
              "    <tr>\n",
              "      <th>mean</th>\n",
              "      <td>260.500000</td>\n",
              "      <td>4380.932950</td>\n",
              "      <td>19.643678</td>\n",
              "      <td>1420.068966</td>\n",
              "      <td>1.862069</td>\n",
              "      <td>2.000806</td>\n",
              "      <td>1.289272</td>\n",
              "      <td>1.376029</td>\n",
              "      <td>17.379310</td>\n",
              "      <td>12.963602</td>\n",
              "      <td>2.061303</td>\n",
              "      <td>0.091954</td>\n",
              "      <td>1.668582</td>\n",
              "      <td>1.821450</td>\n",
              "      <td>5.663368</td>\n",
              "      <td>3.455060</td>\n",
              "    </tr>\n",
              "    <tr>\n",
              "      <th>std</th>\n",
              "      <td>150.832689</td>\n",
              "      <td>3281.776121</td>\n",
              "      <td>11.619836</td>\n",
              "      <td>1031.604819</td>\n",
              "      <td>3.338851</td>\n",
              "      <td>3.317946</td>\n",
              "      <td>2.083350</td>\n",
              "      <td>1.886510</td>\n",
              "      <td>21.572664</td>\n",
              "      <td>16.164361</td>\n",
              "      <td>2.203661</td>\n",
              "      <td>0.295800</td>\n",
              "      <td>2.909929</td>\n",
              "      <td>2.931176</td>\n",
              "      <td>5.600249</td>\n",
              "      <td>3.376584</td>\n",
              "    </tr>\n",
              "    <tr>\n",
              "      <th>min</th>\n",
              "      <td>0.000000</td>\n",
              "      <td>65.000000</td>\n",
              "      <td>1.000000</td>\n",
              "      <td>1.000000</td>\n",
              "      <td>0.000000</td>\n",
              "      <td>0.000000</td>\n",
              "      <td>0.000000</td>\n",
              "      <td>0.000000</td>\n",
              "      <td>0.000000</td>\n",
              "      <td>0.000000</td>\n",
              "      <td>0.000000</td>\n",
              "      <td>0.000000</td>\n",
              "      <td>0.000000</td>\n",
              "      <td>0.000000</td>\n",
              "      <td>0.000000</td>\n",
              "      <td>0.000000</td>\n",
              "    </tr>\n",
              "    <tr>\n",
              "      <th>25%</th>\n",
              "      <td>130.250000</td>\n",
              "      <td>839.750000</td>\n",
              "      <td>10.000000</td>\n",
              "      <td>470.250000</td>\n",
              "      <td>0.000000</td>\n",
              "      <td>0.074668</td>\n",
              "      <td>0.000000</td>\n",
              "      <td>0.049245</td>\n",
              "      <td>2.000000</td>\n",
              "      <td>1.000000</td>\n",
              "      <td>0.000000</td>\n",
              "      <td>0.000000</td>\n",
              "      <td>0.000000</td>\n",
              "      <td>0.074668</td>\n",
              "      <td>1.191391</td>\n",
              "      <td>0.720353</td>\n",
              "    </tr>\n",
              "    <tr>\n",
              "      <th>50%</th>\n",
              "      <td>260.500000</td>\n",
              "      <td>4627.000000</td>\n",
              "      <td>21.000000</td>\n",
              "      <td>1342.000000</td>\n",
              "      <td>1.000000</td>\n",
              "      <td>0.737295</td>\n",
              "      <td>0.000000</td>\n",
              "      <td>0.691122</td>\n",
              "      <td>10.000000</td>\n",
              "      <td>7.000000</td>\n",
              "      <td>2.000000</td>\n",
              "      <td>0.000000</td>\n",
              "      <td>0.500000</td>\n",
              "      <td>0.715585</td>\n",
              "      <td>4.252738</td>\n",
              "      <td>2.656397</td>\n",
              "    </tr>\n",
              "    <tr>\n",
              "      <th>75%</th>\n",
              "      <td>390.750000</td>\n",
              "      <td>7690.500000</td>\n",
              "      <td>30.000000</td>\n",
              "      <td>2319.000000</td>\n",
              "      <td>2.000000</td>\n",
              "      <td>2.053378</td>\n",
              "      <td>2.000000</td>\n",
              "      <td>2.050509</td>\n",
              "      <td>23.750000</td>\n",
              "      <td>19.000000</td>\n",
              "      <td>3.000000</td>\n",
              "      <td>0.000000</td>\n",
              "      <td>2.000000</td>\n",
              "      <td>1.945799</td>\n",
              "      <td>8.308002</td>\n",
              "      <td>5.254647</td>\n",
              "    </tr>\n",
              "    <tr>\n",
              "      <th>max</th>\n",
              "      <td>521.000000</td>\n",
              "      <td>9552.000000</td>\n",
              "      <td>38.000000</td>\n",
              "      <td>3420.000000</td>\n",
              "      <td>23.000000</td>\n",
              "      <td>22.174859</td>\n",
              "      <td>14.000000</td>\n",
              "      <td>11.474996</td>\n",
              "      <td>138.000000</td>\n",
              "      <td>95.000000</td>\n",
              "      <td>12.000000</td>\n",
              "      <td>2.000000</td>\n",
              "      <td>19.000000</td>\n",
              "      <td>19.130183</td>\n",
              "      <td>28.968234</td>\n",
              "      <td>18.323006</td>\n",
              "    </tr>\n",
              "  </tbody>\n",
              "</table>\n",
              "</div>"
            ],
            "text/plain": [
              "       Unnamed: 0           id       games         time       goals  \\\n",
              "count  522.000000   522.000000  522.000000   522.000000  522.000000   \n",
              "mean   260.500000  4380.932950   19.643678  1420.068966    1.862069   \n",
              "std    150.832689  3281.776121   11.619836  1031.604819    3.338851   \n",
              "min      0.000000    65.000000    1.000000     1.000000    0.000000   \n",
              "25%    130.250000   839.750000   10.000000   470.250000    0.000000   \n",
              "50%    260.500000  4627.000000   21.000000  1342.000000    1.000000   \n",
              "75%    390.750000  7690.500000   30.000000  2319.000000    2.000000   \n",
              "max    521.000000  9552.000000   38.000000  3420.000000   23.000000   \n",
              "\n",
              "               xG     assists          xA       shots  key_passes  \\\n",
              "count  522.000000  522.000000  522.000000  522.000000  522.000000   \n",
              "mean     2.000806    1.289272    1.376029   17.379310   12.963602   \n",
              "std      3.317946    2.083350    1.886510   21.572664   16.164361   \n",
              "min      0.000000    0.000000    0.000000    0.000000    0.000000   \n",
              "25%      0.074668    0.000000    0.049245    2.000000    1.000000   \n",
              "50%      0.737295    0.000000    0.691122   10.000000    7.000000   \n",
              "75%      2.053378    2.000000    2.050509   23.750000   19.000000   \n",
              "max     22.174859   14.000000   11.474996  138.000000   95.000000   \n",
              "\n",
              "       yellow_cards   red_cards         npg        npxG     xGChain  \\\n",
              "count    522.000000  522.000000  522.000000  522.000000  522.000000   \n",
              "mean       2.061303    0.091954    1.668582    1.821450    5.663368   \n",
              "std        2.203661    0.295800    2.909929    2.931176    5.600249   \n",
              "min        0.000000    0.000000    0.000000    0.000000    0.000000   \n",
              "25%        0.000000    0.000000    0.000000    0.074668    1.191391   \n",
              "50%        2.000000    0.000000    0.500000    0.715585    4.252738   \n",
              "75%        3.000000    0.000000    2.000000    1.945799    8.308002   \n",
              "max       12.000000    2.000000   19.000000   19.130183   28.968234   \n",
              "\n",
              "        xGBuildup  \n",
              "count  522.000000  \n",
              "mean     3.455060  \n",
              "std      3.376584  \n",
              "min      0.000000  \n",
              "25%      0.720353  \n",
              "50%      2.656397  \n",
              "75%      5.254647  \n",
              "max     18.323006  "
            ]
          },
          "execution_count": 5,
          "metadata": {},
          "output_type": "execute_result"
        }
      ],
      "source": [
        "# Mem-print deskripsi statistik dari dataframe\n",
        "df_epl.describe()"
      ]
    },
    {
      "cell_type": "code",
      "execution_count": null,
      "metadata": {
        "id": "P_PB5DUUM2xH",
        "outputId": "14426e0a-174e-4c14-e8ca-9c9b333f111e"
      },
      "outputs": [
        {
          "data": {
            "text/plain": [
              "count    522.000000\n",
              "mean       1.862069\n",
              "std        3.338851\n",
              "min        0.000000\n",
              "25%        0.000000\n",
              "50%        1.000000\n",
              "75%        2.000000\n",
              "max       23.000000\n",
              "Name: goals, dtype: float64"
            ]
          },
          "execution_count": 6,
          "metadata": {},
          "output_type": "execute_result"
        }
      ],
      "source": [
        "# Mendeskripsikan statistik dari kolom \"goals\"\n",
        "df_epl[\"goals\"].describe()"
      ]
    },
    {
      "cell_type": "code",
      "execution_count": null,
      "metadata": {
        "id": "yXeSstwKM2xH",
        "outputId": "bb88b025-0dc2-4434-e896-a4d6fc6d5686"
      },
      "outputs": [
        {
          "name": "stdout",
          "output_type": "stream",
          "text": [
            "Rata-rata gol yang dicetak oleh pemain adalah 1.8620689655172413\n"
          ]
        }
      ],
      "source": [
        "# Menghitung rata-rata dari kolom \"goals\"\n",
        "mean_goals = df_epl[\"goals\"].mean()\n",
        "print(f\"Rata-rata gol yang dicetak oleh pemain adalah {mean_goals}\")"
      ]
    },
    {
      "cell_type": "code",
      "execution_count": null,
      "metadata": {
        "id": "MUVIblymM2xH",
        "outputId": "91f81c38-03be-442a-851b-7c676ad0805e"
      },
      "outputs": [
        {
          "name": "stdout",
          "output_type": "stream",
          "text": [
            "Median gol yang dicetak oleh pemain adalah 1.0\n"
          ]
        }
      ],
      "source": [
        "# Menghitung median dari kolom \"goals\"\n",
        "median_goals = df_epl[\"goals\"].median()\n",
        "print(f\"Median gol yang dicetak oleh pemain adalah {median_goals}\")"
      ]
    },
    {
      "cell_type": "code",
      "execution_count": null,
      "metadata": {
        "id": "hSWMIQxnM2xH",
        "outputId": "6eaa3e84-8a26-4c6d-bcbc-8087d8d76d33"
      },
      "outputs": [
        {
          "name": "stdout",
          "output_type": "stream",
          "text": [
            "Gol paling sedikit yang dicetak oleh pemain adalah 0 oleh Bernd Leno dari Arsenal\n"
          ]
        }
      ],
      "source": [
        "# Mencari gol paling sedikit yang dicetak oleh pemain dan nama pemainnya, dan timnya\n",
        "min_goals = df_epl[\"goals\"].min()\n",
        "min_goals_player = df_epl[df_epl[\"goals\"] == min_goals]\n",
        "min_goals_player_name = min_goals_player[\"player_name\"].values[0]\n",
        "min_goals_player_team = min_goals_player[\"team_title\"].values[0]\n",
        "print(f\"Gol paling sedikit yang dicetak oleh pemain adalah {min_goals} oleh {min_goals_player_name} dari {min_goals_player_team}\")"
      ]
    },
    {
      "cell_type": "code",
      "execution_count": null,
      "metadata": {
        "id": "qjXqOqggM2xH",
        "outputId": "38ab996e-4480-4bc7-fe5d-19b28b1a8b45"
      },
      "outputs": [
        {
          "name": "stdout",
          "output_type": "stream",
          "text": [
            "Gol paling banyak yang dicetak oleh pemain adalah 23 oleh Harry Kane dari Tottenham\n"
          ]
        }
      ],
      "source": [
        "# Mencari gol paling banyak yang dicetak oleh pemain dan nama pemainnya, dan timnya\n",
        "max_goals = df_epl[\"goals\"].max()\n",
        "max_goals_player = df_epl[df_epl[\"goals\"] == max_goals]\n",
        "max_goals_player_name = max_goals_player[\"player_name\"].values[0]\n",
        "max_goals_player_team = max_goals_player[\"team_title\"].values[0]\n",
        "print(f\"Gol paling banyak yang dicetak oleh pemain adalah {max_goals} oleh {max_goals_player_name} dari {max_goals_player_team}\")"
      ]
    },
    {
      "cell_type": "code",
      "execution_count": null,
      "metadata": {
        "id": "T4iAQyOvM2xI",
        "outputId": "742e154e-e3dd-4d72-e880-d15fac00250b"
      },
      "outputs": [
        {
          "data": {
            "image/png": "[encoded data removed]",
            "text/plain": [
              "<Figure size 1200x600 with 1 Axes>"
            ]
          },
          "metadata": {},
          "output_type": "display_data"
        }
      ],
      "source": [
        "# Mencetak 5 pemain dengan gol terbanyak\n",
        "top_5_goals = df_epl[[\"player_name\", \"goals\"]].sort_values(by=\"goals\", ascending=False).head()\n",
        "\n",
        "# Membuat bar chart dari 5 pemain dengan gol terbanyak\n",
        "plt.figure(figsize=(12, 6))\n",
        "plt.bar(top_5_goals[\"player_name\"], top_5_goals[\"goals\"], color=\"#FFC659\")\n",
        "plt.ylabel(\"Jumlah Gol\")\n",
        "plt.title(\"5 Pemain dengan Jumlah Gol Terbanyak\")\n",
        "plt.show()"
      ]
    },
    {
      "cell_type": "code",
      "execution_count": null,
      "metadata": {
        "id": "sliX_i2qM2xI",
        "outputId": "5915a524-994e-49ef-95c5-1b08e1120a66"
      },
      "outputs": [
        {
          "data": {
            "image/png": "[encoded data removed]",
            "text/plain": [
              "<Figure size 1200x600 with 1 Axes>"
            ]
          },
          "metadata": {},
          "output_type": "display_data"
        }
      ],
      "source": [
        "# Statistik jumlah gol yang dicetak berdasarkan tim\n",
        "goals_by_team = df_epl.groupby(\"team_title\")[\"goals\"].sum()\n",
        "goals_by_team = goals_by_team.reset_index()\n",
        "goals_by_team = goals_by_team.sort_values(by=\"goals\", ascending=False)\n",
        "\n",
        "# Membuat bar chart dari 5 tim dengan jumlah gol terbanyak\n",
        "plt.figure(figsize=(12, 6))\n",
        "plt.bar(goals_by_team[\"team_title\"].head(), goals_by_team[\"goals\"].head(), color=\"#6CABDD\")\n",
        "plt.ylabel(\"Jumlah Gol\")\n",
        "plt.title(\"5 Tim dengan Jumlah Gol Terbanyak\")\n",
        "plt.show()"
      ]
    }
  ],
  "metadata": {
    "kernelspec": {
      "display_name": "Python 3",
      "language": "python",
      "name": "python3"
    },
    "language_info": {
      "codemirror_mode": {
        "name": "ipython",
        "version": 3
      },
      "file_extension": ".py",
      "mimetype": "text/x-python",
      "name": "python",
      "nbconvert_exporter": "python",
      "pygments_lexer": "ipython3",
      "version": "3.11.9"
    },
    "colab": {
      "provenance": [],
      "include_colab_link": true
    }
  },
  "nbformat": 4,
  "nbformat_minor": 0
}